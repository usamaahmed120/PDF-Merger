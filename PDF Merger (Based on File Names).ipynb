{
 "cells": [
  {
   "cell_type": "markdown",
   "id": "0f739b05",
   "metadata": {},
   "source": [
    "# PDF Files Merging - (Based on their names)"
   ]
  },
  {
   "cell_type": "code",
   "execution_count": 2,
   "id": "c86d1f96",
   "metadata": {},
   "outputs": [],
   "source": [
    "# Import necessary libraries\n",
    "from PyPDF2 import PdfMerger\n",
    "from pathlib import Path\n",
    "from glob import glob"
   ]
  },
  {
   "cell_type": "code",
   "execution_count": 4,
   "id": "c66808be",
   "metadata": {},
   "outputs": [],
   "source": [
    "# Define input and output directories:\n",
    "pdf_input = \"\"\n",
    "pdf_output = \"\"\n",
    "\n",
    "# List all pdf files in the input directory\n",
    "pdf_files = glob(f\"{pdf_input}*.pdf\")\n",
    "\n",
    "# Use the first 3 characters as the 'key'\n",
    "keys = []\n",
    "for pdf in pdf_files:\n",
    "    keys.append(pdf[0:3])\n",
    "# Note: set() is used to remove any duplicates in the 'key' list.\n",
    "keys = set(key)\n",
    "\n",
    "# Loop through the unique keys and merge all PDF files with that key:\n",
    "for key in keys: \n",
    "    merger = PdfMerger()\n",
    "    for pdf in pdf_files:\n",
    "        if pdf.startswith(key):\n",
    "            merger.append(pdf)\n",
    "    merger.write(f\"{pdf_output}/{key}.pdf\")\n",
    "    merger.close()\n",
    "    \n"
   ]
  },
  {
   "cell_type": "markdown",
   "id": "ad777e36",
   "metadata": {},
   "source": [
    "# Instructions\n",
    "#### Replace the pdf_input variable with the path to your input directory containing the PDF files to be merged.\n",
    "#### Replace the pdf_output variable with the path to your desired output directory for the merged PDF files.\n",
    "#### Ensure that the PyPDF2 library is installed in your Python environment.\n",
    "#### Save the code in a .py file and run it in a Python environment.\n",
    "#### The merged PDF files will be saved in the output directory with the 'key' as the file name."
   ]
  }
 ],
 "metadata": {
  "kernelspec": {
   "display_name": "Python 3 (ipykernel)",
   "language": "python",
   "name": "python3"
  },
  "language_info": {
   "codemirror_mode": {
    "name": "ipython",
    "version": 3
   },
   "file_extension": ".py",
   "mimetype": "text/x-python",
   "name": "python",
   "nbconvert_exporter": "python",
   "pygments_lexer": "ipython3",
   "version": "3.11.1"
  }
 },
 "nbformat": 4,
 "nbformat_minor": 5
}
